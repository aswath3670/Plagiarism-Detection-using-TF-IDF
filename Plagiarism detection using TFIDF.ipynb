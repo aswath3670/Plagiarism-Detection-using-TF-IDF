{
 "cells": [
  {
   "cell_type": "code",
   "execution_count": 1,
   "id": "e484baf1-b29d-412a-9efb-5daee80db8b8",
   "metadata": {},
   "outputs": [],
   "source": [
    "import nltk\n",
    "from nltk.corpus import stopwords\n",
    "from nltk.stem.porter import PorterStemmer\n",
    "from nltk.stem import WordNetLemmatizer\n",
    "from sklearn.feature_extraction.text import CountVectorizer\n",
    "from sklearn.feature_extraction.text import TfidfVectorizer\n",
    "\n",
    "from sklearn.metrics.pairwise import cosine_similarity\n"
   ]
  },
  {
   "cell_type": "markdown",
   "id": "4fe92522-cfba-405f-b59b-7e4ec57d50f6",
   "metadata": {},
   "source": [
    "The cosine_similarity function from the sklearn.metrics.pairwise module is used to compute the cosine similarity between two sets of vectors. Cosine similarity is a measure of similarity between two non-zero vectors, which calculates the cosine of the angle between them. It ranges from -1 (completely opposite) to 1 (completely similar), with 0 indicating orthogonality or no similarity."
   ]
  },
  {
   "cell_type": "code",
   "execution_count": 4,
   "id": "074fc3ce-d0e8-4495-9eff-7a936025f665",
   "metadata": {},
   "outputs": [],
   "source": [
    "# Sample documents for plagiarism detection\n",
    "\n",
    "\n",
    "doc = {\n",
    "    \"doc1\": \"Artificial intelligence is transforming the world by automating tasks.\",\n",
    "    \"doc2\": \"AI is revolutionizing the globe by automating repetitive tasks.\",\n",
    "    \"doc3\": \"Deep learning is a subset of artificial intelligence that is highly popular.\",\n",
    "    \"doc4\": \"Quantum computing is a revolutionary field unrelated to AI.\"\n",
    "}"
   ]
  },
  {
   "cell_type": "code",
   "execution_count": 6,
   "id": "c0f3c233-a177-4d4d-8295-7e62a6a4eb9c",
   "metadata": {},
   "outputs": [
    {
     "data": {
      "text/plain": [
       "{'doc1': 'Artificial intelligence is transforming the world by automating tasks.',\n",
       " 'doc2': 'AI is revolutionizing the globe by automating repetitive tasks.',\n",
       " 'doc3': 'Deep learning is a subset of artificial intelligence that is highly popular.',\n",
       " 'doc4': 'Quantum computing is a revolutionary field unrelated to AI.'}"
      ]
     },
     "execution_count": 6,
     "metadata": {},
     "output_type": "execute_result"
    }
   ],
   "source": [
    "doc"
   ]
  },
  {
   "cell_type": "code",
   "execution_count": 8,
   "id": "3b4651d7-f541-4c9e-a5e1-0ba786a2e38e",
   "metadata": {},
   "outputs": [
    {
     "data": {
      "text/plain": [
       "['doc1', 'doc2', 'doc3', 'doc4']"
      ]
     },
     "execution_count": 8,
     "metadata": {},
     "output_type": "execute_result"
    }
   ],
   "source": [
    "# Step 1: Create a list of document contents\n",
    "\n",
    "doc_names=list(doc.keys())\n",
    "doc_names"
   ]
  },
  {
   "cell_type": "code",
   "execution_count": 10,
   "id": "cb69d032-4596-47d6-a72f-d67ddc22344c",
   "metadata": {},
   "outputs": [
    {
     "data": {
      "text/plain": [
       "['Artificial intelligence is transforming the world by automating tasks.',\n",
       " 'AI is revolutionizing the globe by automating repetitive tasks.',\n",
       " 'Deep learning is a subset of artificial intelligence that is highly popular.',\n",
       " 'Quantum computing is a revolutionary field unrelated to AI.']"
      ]
     },
     "execution_count": 10,
     "metadata": {},
     "output_type": "execute_result"
    }
   ],
   "source": [
    "doc_contents=list(doc.values())\n",
    "doc_contents"
   ]
  },
  {
   "cell_type": "code",
   "execution_count": 12,
   "id": "91526f20-e576-495e-b37f-b23e67e330a8",
   "metadata": {},
   "outputs": [],
   "source": [
    "# Step 2: Vectorize documents using TF-IDF\n",
    "\n",
    "vect=TfidfVectorizer(stop_words='english')\n",
    "tmatrix=vect.fit_transform(doc_contents)"
   ]
  },
  {
   "cell_type": "code",
   "execution_count": 14,
   "id": "7540e1a4-dc07-4692-aff2-3cf367c69f31",
   "metadata": {},
   "outputs": [],
   "source": [
    "# Step 3: Compute cosine similarity between documents\n",
    "\n",
    "cosim=cosine_similarity(tmatrix,tmatrix)"
   ]
  },
  {
   "cell_type": "code",
   "execution_count": 16,
   "id": "8ed4dbc7-a881-4357-ba22-b7ff3b15eddd",
   "metadata": {},
   "outputs": [
    {
     "data": {
      "text/plain": [
       "array([[1.        , 0.2661073 , 0.23490118, 0.        ],\n",
       "       [0.2661073 , 1.        , 0.        , 0.11886245],\n",
       "       [0.23490118, 0.        , 1.        , 0.        ],\n",
       "       [0.        , 0.11886245, 0.        , 1.        ]])"
      ]
     },
     "execution_count": 16,
     "metadata": {},
     "output_type": "execute_result"
    }
   ],
   "source": [
    "cosim"
   ]
  },
  {
   "cell_type": "code",
   "execution_count": 18,
   "id": "9907a2b9-42a0-4e16-9d1d-e49051c3e4e7",
   "metadata": {},
   "outputs": [
    {
     "name": "stdout",
     "output_type": "stream",
     "text": [
      "Plagiarism Similarity Matrix (Cosine Similarity):\n",
      "Similarity between doc1 and doc2: 0.266\n",
      "Similarity between doc1 and doc3: 0.235\n",
      "Similarity between doc1 and doc4: 0.000\n",
      "Similarity between doc2 and doc1: 0.266\n",
      "Similarity between doc2 and doc3: 0.000\n",
      "Similarity between doc2 and doc4: 0.119\n",
      "Similarity between doc3 and doc1: 0.235\n",
      "Similarity between doc3 and doc2: 0.000\n",
      "Similarity between doc3 and doc4: 0.000\n",
      "Similarity between doc4 and doc1: 0.000\n",
      "Similarity between doc4 and doc2: 0.119\n",
      "Similarity between doc4 and doc3: 0.000\n"
     ]
    }
   ],
   "source": [
    "# Step 4: Display similarity scores\n",
    "\n",
    "print(\"Plagiarism Similarity Matrix (Cosine Similarity):\")\n",
    "for i in range(len(doc_names)):\n",
    "    for j in range(len(doc_names)):\n",
    "        if i !=j: # Avoid diagonal elements\n",
    "            print(f\"Similarity between {doc_names[i]} and {doc_names[j]}: {cosim[i][j]:.3f}\")"
   ]
  },
  {
   "cell_type": "code",
   "execution_count": 20,
   "id": "10b67a8e-4a13-4c52-9b53-03fba0d0f85d",
   "metadata": {},
   "outputs": [],
   "source": [
    "# Step 5: Thresholding for plagiarism detection\n",
    "\n",
    "threshold=0.2"
   ]
  },
  {
   "cell_type": "code",
   "execution_count": 22,
   "id": "9d6ea7e4-ef13-4b19-8950-ce4649b31858",
   "metadata": {},
   "outputs": [
    {
     "name": "stdout",
     "output_type": "stream",
     "text": [
      "\n",
      "Potential Plagiarism cases:\n",
      "Plagiarism detected between doc1 and doc2 with similarity 0.27\n",
      "Plagiarism detected between doc1 and doc3 with similarity 0.23\n"
     ]
    }
   ],
   "source": [
    "print(\"\\nPotential Plagiarism cases:\")\n",
    "for i in range(len(doc_names)):\n",
    "    for j in range(i+1, len(doc_names)): # Avoid repeating pairs\n",
    "        if cosim[i][j]>threshold:\n",
    "            print(f\"Plagiarism detected between {doc_names[i]} and {doc_names[j]} with similarity {cosim[i][j]:.2f}\")"
   ]
  },
  {
   "cell_type": "code",
   "execution_count": null,
   "id": "af366a1a-239f-4d64-98e4-518bab47aa91",
   "metadata": {},
   "outputs": [],
   "source": []
  }
 ],
 "metadata": {
  "kernelspec": {
   "display_name": "Python 3 (ipykernel)",
   "language": "python",
   "name": "python3"
  },
  "language_info": {
   "codemirror_mode": {
    "name": "ipython",
    "version": 3
   },
   "file_extension": ".py",
   "mimetype": "text/x-python",
   "name": "python",
   "nbconvert_exporter": "python",
   "pygments_lexer": "ipython3",
   "version": "3.12.4"
  }
 },
 "nbformat": 4,
 "nbformat_minor": 5
}
